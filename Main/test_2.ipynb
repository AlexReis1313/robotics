{
 "cells": [
  {
   "cell_type": "code",
   "execution_count": 7,
   "metadata": {},
   "outputs": [
    {
     "name": "stdout",
     "output_type": "stream",
     "text": [
      "[NEW MESSAGE] (-1, [0, 0, 0, 0, 0], True, [0, 0])\n"
     ]
    },
    {
     "data": {
      "text/plain": [
       "[0, 0]"
      ]
     },
     "execution_count": 7,
     "metadata": {},
     "output_type": "execute_result"
    }
   ],
   "source": [
    "import ast\n",
    "\n",
    "info_computer_share = {'state': -1, 'last_bisturi_pos': [0,0,0,0,0], 'calibration_matrix': None, 'cutting_plan':[0,0], }\n",
    "\n",
    "data = tuple((info_computer_share['state'],info_computer_share['last_bisturi_pos'],True ,info_computer_share['cutting_plan']))\n",
    "data = str(data)\n",
    "data_s = data.encode('utf-8')\n",
    "data_s_length = len(data_s)\n",
    "send_length = str(data_s_length).encode('utf-8')\n",
    "\n",
    "data_r = data_s.decode('utf-8')\n",
    "a=ast.literal_eval(data_r)\n",
    "print(f'[NEW MESSAGE] {a}')\n",
    "a[-1]"
   ]
  },
  {
   "cell_type": "code",
   "execution_count": 2,
   "metadata": {},
   "outputs": [
    {
     "name": "stdout",
     "output_type": "stream",
     "text": [
      "pygame 2.5.2 (SDL 2.28.3, Python 3.9.13)\n",
      "Hello from the pygame community. https://www.pygame.org/contribute.html\n",
      "Gamepad Name: PS4 Controller\n",
      "Press Playstation button to quit\n"
     ]
    },
    {
     "data": {
      "text/plain": [
       "<pygame.joystick.Joystick at 0x19377446b10>"
      ]
     },
     "execution_count": 2,
     "metadata": {},
     "output_type": "execute_result"
    }
   ],
   "source": [
    "from joystick_functions import*\n",
    "initialize_joystick()"
   ]
  },
  {
   "cell_type": "code",
   "execution_count": 3,
   "metadata": {},
   "outputs": [],
   "source": [
    "pos=[0]*5\n",
    "deltas=[1,1,2,0,0]\n",
    "XYZ_sensitivity =[-4.725378787878788,\n",
    "\t\t\t\t\t\t\t-4.739024390243903,\n",
    "\t\t\t\t\t\t\t-4.646980255516841,\n",
    "\t\t\t\t\t\t\t-0.49864498644986455,\n",
    "\t\t\t\t\t\t\t3.0248419150858177] #from data\n",
    "for i in pos:\n",
    "\tpos[i]+=deltas[i]*XYZ_sensitivity[i]"
   ]
  },
  {
   "cell_type": "code",
   "execution_count": 7,
   "metadata": {},
   "outputs": [
    {
     "name": "stdout",
     "output_type": "stream",
     "text": [
      "b'SETPVC AA[2] X 12\\r'\n",
      "b'SETPVC AA[2] Y 232\\r'\n",
      "b'SETPVC AA[2] Z 23\\r'\n",
      "b'SETPVC AA[2] P 234\\r'\n",
      "b'SETPVC AA[2] R 456\\r'\n"
     ]
    }
   ],
   "source": [
    "cartesian=['X','Y', 'Z', 'P', 'R']\n",
    "deltasXYZRP = [12,232,23,234,456]\n",
    "pos=[0,0,0,0,0]\n",
    "prefix='AA'\n",
    "nrpoints=7\n",
    "ptNumber=2\n",
    "for i, delta in enumerate(deltasXYZRP):\n",
    "\tif delta!=0:\n",
    "\t\tprint(f'SETPVC {prefix}[{ptNumber}] {cartesian[i]} {pos[i]+delta}\\r'.encode('utf-8'))\n",
    "\t\ttime.sleep(0.2)\n",
    "\n"
   ]
  }
 ],
 "metadata": {
  "kernelspec": {
   "display_name": "Python 3",
   "language": "python",
   "name": "python3"
  },
  "language_info": {
   "codemirror_mode": {
    "name": "ipython",
    "version": 3
   },
   "file_extension": ".py",
   "mimetype": "text/x-python",
   "name": "python",
   "nbconvert_exporter": "python",
   "pygments_lexer": "ipython3",
   "version": "3.9.13"
  }
 },
 "nbformat": 4,
 "nbformat_minor": 2
}
