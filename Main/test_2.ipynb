{
 "cells": [
  {
   "cell_type": "code",
   "execution_count": 3,
   "metadata": {},
   "outputs": [],
   "source": [
    "from robot_classes_manual import *"
   ]
  },
  {
   "cell_type": "code",
   "execution_count": 1,
   "metadata": {},
   "outputs": [
    {
     "name": "stdout",
     "output_type": "stream",
     "text": [
      "pygame 2.5.2 (SDL 2.28.3, Python 3.9.13)\n",
      "Hello from the pygame community. https://www.pygame.org/contribute.html\n",
      "camera b'\\r'\n",
      "camera b'\\r'\n",
      "camera b'LISTPV POSITION \\r'\n",
      "camera b'SPEED 2\\r'\n",
      "camera b'\\r'\n",
      "camera b'~ \\r'\n",
      "camera b's \\r'\n",
      "camera b'2 \\r'\n",
      "camera b'J \\r'\n",
      "Camera ready\n",
      "bisturi b'LISTPV POSITION \\r'\n",
      "bisturi b'\\r'\n",
      "bisturi b'~ \\r'\n",
      "bisturi b's \\r'\n",
      "bisturi b'16 \\r'\n",
      "bisturi b'J \\r'\n",
      "Bisturi Ready\n",
      "camera b'\\r'\n",
      "camera b'LISTPV POSITION \\r'\n",
      "bisturi b'LISTPV POSITION \\r'\n",
      "n\n",
      "camera b'\\r'\n",
      "camera b'LISTPV POSITION \\r'\n",
      "bisturi b'LISTPV POSITION \\r'\n",
      "n\n",
      "camera b'\\r'\n",
      "camera b'LISTPV POSITION \\r'\n",
      "bisturi b'LISTPV POSITION \\r'\n",
      "c\n",
      "camera b'\\r'\n",
      "camera b'LISTPV POSITION \\r'\n",
      "bisturi b'LISTPV POSITION \\r'\n",
      "c\n",
      "camera b'\\r'\n",
      "camera b'LISTPV POSITION \\r'\n",
      "bisturi b'LISTPV POSITION \\r'\n",
      "c\n",
      "camera b'\\r'\n",
      "camera b'LISTPV POSITION \\r'\n",
      "bisturi b'LISTPV POSITION \\r'\n",
      "n\n",
      "camera b'\\r'\n",
      "camera b'LISTPV POSITION \\r'\n",
      "bisturi b'LISTPV POSITION \\r'\n",
      "c\n"
     ]
    },
    {
     "ename": "",
     "evalue": "",
     "output_type": "error",
     "traceback": [
      "\u001b[1;31mThe Kernel crashed while executing code in the the current cell or a previous cell. Please review the code in the cell(s) to identify a possible cause of the failure. Click <a href='https://aka.ms/vscodeJupyterKernelCrash'>here</a> for more info. View Jupyter <a href='command:jupyter.viewOutput'>log</a> for further details."
     ]
    }
   ],
   "source": [
    "from robot_classes_manual import *\n",
    "import cv2\n",
    "info_computer_share = {'state': -1, 'last_bisturi_pos': [0,0,0,0,0],  'cutting_plan':[0,0],'coliding':False}\n",
    "camera_robot = cameraRobot(comPort='COM3', atHome=True)\n",
    "bisturi_robot=Robot(info_computer_share=info_computer_share,comPort='COM4', atHome=True)\n",
    "f=open('colision data.txt','w')\n",
    "cap = cv2.VideoCapture(0)\n",
    "\n",
    "while True:    \n",
    "    # Initialize key variable\n",
    "    key = cv2.waitKey(1) & 0xFF\n",
    "    success, img = cap.read()\n",
    "    cv2.imshow(\"Tracking\", img)\n",
    "\n",
    "    if key == ord('q'):\n",
    "        f.close()\n",
    "        cap.release()\n",
    "        cv2.destroyAllWindows()\n",
    "        break\n",
    "    if key == ord('n'): #not coliding\n",
    "        camera_robot.calculate_pos()\n",
    "        bisturi_robot.calculate_pos()\n",
    "        pos_bist= bisturi_robot.get_last_pos()\n",
    "        pos_cam=camera_robot.get_pos()\n",
    "        sting = f'cam:{pos_cam}   bisturi:{pos_bist}   Not coliding\\n'\n",
    "        f.write(sting)\n",
    "        print('n')\n",
    "\n",
    "    elif key == ord('c'): # coliding\n",
    "        camera_robot.calculate_pos()\n",
    "        bisturi_robot.calculate_pos()\n",
    "        pos_bist= bisturi_robot.get_last_pos()\n",
    "        pos_cam=camera_robot.get_pos()\n",
    "        sting = f'cam:{pos_cam}   bisturi:{pos_bist}   Coliding\\n'\n",
    "        f.write(sting)\n",
    "        print('c')\n",
    "\n",
    "\n",
    "    time.sleep(0.05)\n",
    "\n",
    "\n",
    "\n"
   ]
  },
  {
   "cell_type": "code",
   "execution_count": 7,
   "metadata": {},
   "outputs": [
    {
     "name": "stdout",
     "output_type": "stream",
     "text": [
      "[NEW MESSAGE] (-1, [0, 0, 0, 0, 0], True, [0, 0])\n"
     ]
    },
    {
     "data": {
      "text/plain": [
       "[0, 0]"
      ]
     },
     "execution_count": 7,
     "metadata": {},
     "output_type": "execute_result"
    }
   ],
   "source": [
    "import ast\n",
    "\n",
    "info_computer_share = {'state': -1, 'last_bisturi_pos': [0,0,0,0,0], 'calibration_matrix': None, 'cutting_plan':[0,0], }\n",
    "\n",
    "data = tuple((info_computer_share['state'],info_computer_share['last_bisturi_pos'],True ,info_computer_share['cutting_plan']))\n",
    "data = str(data)\n",
    "data_s = data.encode('utf-8')\n",
    "data_s_length = len(data_s)\n",
    "send_length = str(data_s_length).encode('utf-8')\n",
    "\n",
    "data_r = data_s.decode('utf-8')\n",
    "a=ast.literal_eval(data_r)\n",
    "print(f'[NEW MESSAGE] {a}')\n",
    "a[-1]"
   ]
  },
  {
   "cell_type": "code",
   "execution_count": 1,
   "metadata": {},
   "outputs": [
    {
     "name": "stdout",
     "output_type": "stream",
     "text": [
      "pygame 2.5.2 (SDL 2.28.3, Python 3.9.13)\n",
      "Hello from the pygame community. https://www.pygame.org/contribute.html\n",
      "Gamepad Name: PS4 Controller\n",
      "Press Playstation button to quit\n"
     ]
    },
    {
     "data": {
      "text/plain": [
       "<pygame.joystick.Joystick at 0x1e5a48537e0>"
      ]
     },
     "execution_count": 1,
     "metadata": {},
     "output_type": "execute_result"
    }
   ],
   "source": [
    "from joystick_functions import*\n",
    "initialize_joystick()"
   ]
  }
 ],
 "metadata": {
  "kernelspec": {
   "display_name": "Python 3",
   "language": "python",
   "name": "python3"
  },
  "language_info": {
   "codemirror_mode": {
    "name": "ipython",
    "version": 3
   },
   "file_extension": ".py",
   "mimetype": "text/x-python",
   "name": "python",
   "nbconvert_exporter": "python",
   "pygments_lexer": "ipython3",
   "version": "3.9.13"
  }
 },
 "nbformat": 4,
 "nbformat_minor": 2
}
