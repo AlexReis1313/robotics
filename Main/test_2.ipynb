{
 "cells": [
  {
   "cell_type": "code",
   "execution_count": 3,
   "metadata": {},
   "outputs": [],
   "source": [
    "from robot_classes_manual import *"
   ]
  },
  {
   "cell_type": "code",
   "execution_count": 2,
   "metadata": {},
   "outputs": [
    {
     "name": "stdout",
     "output_type": "stream",
     "text": [
      "COM port in use: COM6\n",
      "camera b'\\r'\n",
      "camera b'\\r'\n",
      "camera b'LISTPV POSITION \\r'\n",
      "camera b'SPEED 2\\r'\n",
      "Camera ready\n",
      "COM port in use: COM3\n",
      "bisturi b'LISTPV POSITION \\r'\n",
      "ROBOT OUTPUT  1: 1929    2: 1550    3:-15401   4: 3964    5:0       \n",
      " X: 5937    Y: 429     Z: 1629    P:-460     R:-201    \n",
      "\n",
      "Bisturi Ready\n",
      "camera b'\\r'\n",
      "camera b'LISTPV POSITION \\r'\n",
      "bisturi b'LISTPV POSITION \\r'\n",
      "ROBOT OUTPUT  1: 1929    2: 1550    3:-15401   4: 3964    5:0       \n",
      " X: 5937    Y: 429     Z: 1629    P:-460     R:-201    \n",
      "\n",
      "c\n",
      "camera b'\\r'\n",
      "camera b'LISTPV POSITION \\r'\n",
      "bisturi b'LISTPV POSITION \\r'\n",
      "ROBOT OUTPUT  1: 1929    2: 2253    3:-15352   4: 3964    5:0       \n",
      " X: 5851    Y: 418     Z: 1380    P:-486     R:-201    \n",
      "\n",
      "n\n",
      "camera b'\\r'\n",
      "camera b'LISTPV POSITION \\r'\n",
      "bisturi b'LISTPV POSITION \\r'\n",
      "ROBOT OUTPUT  1:-3893    2: 2254    3:-15352   4: 3964    5:0       \n",
      " X: 5558    Y:-1877    Z: 1380    P:-486     R:-201    \n",
      "\n",
      "n\n",
      "camera b'\\r'\n",
      "camera b'LISTPV POSITION \\r'\n",
      "bisturi b'LISTPV POSITION \\r'\n",
      "ROBOT OUTPUT  1: 1297    2: 2254    3:-15352   4: 3964    5:0       \n",
      "\n",
      "n\n",
      "camera b'\\r'\n",
      "camera b'LISTPV POSITION \\r'\n",
      "bisturi b'LISTPV POSITION \\r'\n",
      "ROBOT OUTPUT  1: 1298    2:-5995    3:-14890   4: 3964    5:0       \n",
      " X: 6268    Y: 202     Z: 4722    P:-146     R:-201    \n",
      "\n",
      "c\n",
      "camera b'\\r'\n",
      "camera b'LISTPV POSITION \\r'\n",
      "bisturi b'LISTPV POSITION \\r'\n",
      "ROBOT OUTPUT  1: 2183    2:-6330    3:-15157   4: 3964    5:0       \n",
      "\n",
      "c\n",
      "camera b'\\r'\n",
      "camera b'LISTPV POSITION \\r'\n",
      "bisturi b'LISTPV POSITION \\r'\n",
      "ROBOT OUTPUT  1: 2183    2:-9416    3:-23647   4: 3964    5:0       \n",
      " X: 4683    Y: 345     Z: 3327    P:-354     R:-201    \n",
      "\n",
      "n\n",
      "camera b'\\r'\n",
      "camera b'LISTPV POSITION \\r'\n",
      "bisturi b'LISTPV POSITION \\r'\n",
      "ROBOT OUTPUT  1: 1808    2:-1992    3:-23091   4: 3818    5:0       \n",
      "\n",
      "n\n",
      "camera b'\\r'\n",
      "camera b'LISTPV POSITION \\r'\n",
      "bisturi b'LISTPV POSITION \\r'\n",
      "ROBOT OUTPUT  1: 1808    2: 3053    3:-15707   4: 3819    5:0       \n",
      " X: 5611    Y: 339     Z: 1014    P:-535     R:-201    \n",
      "\n",
      "n\n",
      "camera b'\\r'\n",
      "camera b'LISTPV POSITION \\r'\n",
      "bisturi b'LISTPV POSITION \\r'\n",
      "ROBOT OUTPUT  1: 1432    2: 8100    3:-11422   4: 3818    5:0       \n",
      " X: 5812    Y: 215     Z:-53      P:-565     R:-201    \n",
      "\n",
      "n\n",
      "camera b'\\r'\n",
      "camera b'LISTPV POSITION \\r'\n",
      "bisturi b'LISTPV POSITION \\r'\n",
      "ROBOT OUTPUT  1: 1432    2: 8100    3:-11422   4: 3818    5:0       \n",
      " X: 5812    Y: 215     Z:-53      P:-565     R:-201    \n",
      "\n",
      "n\n",
      "camera b'\\r'\n",
      "camera b'LISTPV POSITION \\r'\n",
      "bisturi b'LISTPV POSITION \\r'\n",
      "ROBOT OUTPUT  1: 1432    2: 4960    3:-11423   4: 3819    5:0       \n",
      " X: 6461    Y: 278     Z: 1157    P:-443     R:-201    \n",
      "\n",
      "c\n",
      "camera b'\\r'\n",
      "camera b'LISTPV POSITION \\r'\n",
      "bisturi b'LISTPV POSITION \\r'\n",
      "ROBOT OUTPUT  1: 1431    2: 4960    3:-10335   4: 3819    5:0       \n",
      " X: 6730    Y: 304     Z: 1410    P:-400     R:-201    \n",
      "\n",
      "c\n",
      "camera b'\\r'\n",
      "camera b'LISTPV POSITION \\r'\n",
      "bisturi b'LISTPV POSITION \\r'\n",
      "ROBOT OUTPUT  1:-886     2: 4632    3:-6886    4: 3819    5:0       \n",
      " X: 7441    Y:-804     Z: 2488    P:-253     R:-201    \n",
      "\n",
      "c\n",
      "camera b'\\r'\n",
      "camera b'LISTPV POSITION \\r'\n",
      "bisturi b'LISTPV POSITION \\r'\n",
      "ROBOT OUTPUT  1:-195     2: 6267    3:-5235    4: 3819    5:0       \n",
      " X: 7612    Y:-454     Z: 2189    P:-252     R:-201    \n",
      "\n",
      "c\n"
     ]
    }
   ],
   "source": [
    "from robot_classes_manual import *\n",
    "import cv2\n",
    "info_computer_share = {'state': -1, 'last_bisturi_pos': [0,0,0,0,0],  'cutting_plan':[0,0],'coliding':False}\n",
    "camera_robot = cameraRobot(comPort='COM6', atHome=False)\n",
    "bisturi_robot=Robot(info_computer_share=info_computer_share,comPort='COM3', atHome=False)\n",
    "f=open('colision data.txt','w')\n",
    "cap = cv2.VideoCapture(0)\n",
    "\n",
    "while True:    \n",
    "    # Initialize key variable\n",
    "    key = cv2.waitKey(1) & 0xFF\n",
    "    success, img = cap.read()\n",
    "    cv2.imshow(\"Tracking\", img)\n",
    "\n",
    "    if key == ord('q'):\n",
    "        f.close()\n",
    "        cap.release()\n",
    "        cv2.destroyAllWindows()\n",
    "        break\n",
    "    if key == ord('n'): #not coliding\n",
    "        \n",
    "        camera_robot.calculate_pos()\n",
    "        bisturi_robot.calculate_pos()\n",
    "        pos_bist= bisturi_robot.get_last_pos()\n",
    "        pos_cam=camera_robot.get_pos()\n",
    "        sting = f'cam:{pos_cam}   bisturi:{pos_bist}   Not coliding\\n'\n",
    "        f.write(sting)\n",
    "        print('n')\n",
    "\n",
    "    elif key == ord('c'): # coliding\n",
    "        camera_robot.calculate_pos()\n",
    "        bisturi_robot.calculate_pos()\n",
    "        pos_bist= bisturi_robot.get_last_pos()\n",
    "        pos_cam=camera_robot.get_pos()\n",
    "        sting = f'cam:{pos_cam}   bisturi:{pos_bist}   Coliding\\n'\n",
    "        f.write(sting)\n",
    "        print('c')\n",
    "\n",
    "\n",
    "    time.sleep(0.05)\n",
    "\n",
    "\n",
    "\n"
   ]
  },
  {
   "cell_type": "code",
   "execution_count": 7,
   "metadata": {},
   "outputs": [
    {
     "name": "stdout",
     "output_type": "stream",
     "text": [
      "[NEW MESSAGE] (-1, [0, 0, 0, 0, 0], True, [0, 0])\n"
     ]
    },
    {
     "data": {
      "text/plain": [
       "[0, 0]"
      ]
     },
     "execution_count": 7,
     "metadata": {},
     "output_type": "execute_result"
    }
   ],
   "source": [
    "import ast\n",
    "\n",
    "info_computer_share = {'state': -1, 'last_bisturi_pos': [0,0,0,0,0], 'calibration_matrix': None, 'cutting_plan':[0,0], }\n",
    "\n",
    "data = tuple((info_computer_share['state'],info_computer_share['last_bisturi_pos'],True ,info_computer_share['cutting_plan']))\n",
    "data = str(data)\n",
    "data_s = data.encode('utf-8')\n",
    "data_s_length = len(data_s)\n",
    "send_length = str(data_s_length).encode('utf-8')\n",
    "\n",
    "data_r = data_s.decode('utf-8')\n",
    "a=ast.literal_eval(data_r)\n",
    "print(f'[NEW MESSAGE] {a}')\n",
    "a[-1]"
   ]
  },
  {
   "cell_type": "code",
   "execution_count": 2,
   "metadata": {},
   "outputs": [
    {
     "name": "stdout",
     "output_type": "stream",
     "text": [
      "Gamepad Name: PS4 Controller\n",
      "Press Playstation button to quit\n"
     ]
    },
    {
     "data": {
      "text/plain": [
       "<pygame.joystick.Joystick at 0x2a5edd5c210>"
      ]
     },
     "execution_count": 2,
     "metadata": {},
     "output_type": "execute_result"
    }
   ],
   "source": [
    "from joystick_functions import*\n",
    "initialize_joystick()"
   ]
  }
 ],
 "metadata": {
  "kernelspec": {
   "display_name": "Python 3",
   "language": "python",
   "name": "python3"
  },
  "language_info": {
   "codemirror_mode": {
    "name": "ipython",
    "version": 3
   },
   "file_extension": ".py",
   "mimetype": "text/x-python",
   "name": "python",
   "nbconvert_exporter": "python",
   "pygments_lexer": "ipython3",
   "version": "3.9.13"
  }
 },
 "nbformat": 4,
 "nbformat_minor": 2
}
