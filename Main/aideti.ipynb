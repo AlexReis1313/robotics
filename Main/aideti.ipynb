{
 "cells": [
  {
   "cell_type": "code",
   "execution_count": null,
   "metadata": {},
   "outputs": [],
   "source": [
    "import numpy as np\n",
    "import math"
   ]
  },
  {
   "cell_type": "code",
   "execution_count": null,
   "metadata": {},
   "outputs": [],
   "source": [
    "def forward_kinematics(joints,robot_type): #left to implement\n",
    "\t\tif robot_type == 'bisturi':\n",
    "\t\t\tEF = 0.15+0.16\n",
    "\t\telif robot_type == 'camera':\n",
    "\t\t\tEF = 0.18\n",
    "\t\telse:\n",
    "\t\t\traise TypeError('Invalid robot_type') \n",
    "\t\ttheta1,theta2,theta3,theta4,theta5 = joints\n",
    "\n",
    "\t\toffset = [0,0,-11970,9335,0,0]\n",
    "\t\toffset = encoder_to_angle(offset)\n",
    "\n",
    "\t\ttheta1 += offset[0]\n",
    "\t\ttheta2 += offset[1]\n",
    "\t\ttheta3 += offset[2]\n",
    "\t\ttheta4 += offset[3]\n",
    "\t\ttheta5 += offset[4]\n",
    "\n",
    "\t\tT_01 = np.matrix([[math.cos(theta1),-math.sin(theta1),0,0],\n",
    "\t\t\t\t\t[math.sin(theta1),math.cos(theta1),0,0],\n",
    "\t\t\t\t\t[0,0,1,0],\n",
    "\t\t\t\t\t[0,0,0,1]])\n",
    "\t\tT_12 = np.matrix([[1,0,0,0.05],\n",
    "\t\t\t\t\t[0,1,0,0],\n",
    "\t\t\t\t\t[0,0,1,0.3585],\n",
    "\t\t\t\t\t[0,0,0,1]])\n",
    "\t\tT_23 = np.matrix([[math.cos(theta2),-math.sin(theta2),0,0],\n",
    "\t\t\t\t\t[0,0,1,0],\n",
    "\t\t\t\t\t[-math.sin(theta2),-math.cos(theta2),0,0],\n",
    "\t\t\t\t\t[0,0,0,1]])\n",
    "\t\tT_34 = np.matrix([[0,1,0,0],\n",
    "\t\t\t\t\t[-1,0,0,0],\n",
    "\t\t\t\t\t[0,0,1,0.135],\n",
    "\t\t\t\t\t[0,0,0,1]])\n",
    "\t\tT_45 = np.matrix([[math.cos(theta3),-math.sin(theta3),0,0.3],\n",
    "\t\t\t\t\t[math.sin(theta3),math.cos(theta3),0,0],\n",
    "\t\t\t\t\t[0,0,1,0],\n",
    "\t\t\t\t\t[0,0,0,1]])\n",
    "\t\tT_56 = np.matrix([[math.cos(theta4),-math.sin(theta4),0,0.35],\n",
    "\t\t\t\t\t[math.sin(theta4),math.cos(theta4),0,0],\n",
    "\t\t\t\t\t[0,0,1,0],\n",
    "\t\t\t\t\t[0,0,0,1]])\n",
    "\t\tT_67 = np.matrix([[0,-1,0,0],\n",
    "\t\t\t\t\t[1,0,0,0],\n",
    "\t\t\t\t\t[0,0,1,0],\n",
    "\t\t\t\t\t[0,0,0,1]])\n",
    "\t\tT_78 = np.matrix([[math.cos(theta5),-math.sin(theta5),0,0],\n",
    "\t\t\t\t\t[0,0,-1,0],\n",
    "\t\t\t\t\t[math.sin(theta5),math.cos(theta5),0,0],\n",
    "\t\t\t\t\t[0,0,0,1]])\n",
    "\t\tT_89 = np.matrix([[1,0,0,0],\n",
    "\t\t\t\t\t[0,1,0,0],\n",
    "\t\t\t\t\t[0,0,1,EF],\n",
    "\t\t\t\t\t[0,0,0,1]])\n",
    "\t\t\t\t\t\n",
    "\t\tT = T_01.dot(T_12).dot(T_23).dot(T_34).dot(T_45).dot(T_56).dot(T_67).dot(T_78).dot(T_89)\n",
    "\t\tpos = T[0:3,3]\n",
    "\t\torientation = T[0:3,0:3] #If needed\n",
    "\t\treturn pos.tolist() #return in list of values"
   ]
  },
  {
   "cell_type": "code",
   "execution_count": null,
   "metadata": {},
   "outputs": [],
   "source": [
    "def encoder_to_angle(joints):\n",
    "    joints[0] = math.radians((250*joints[0])/31950)\n",
    "    joints[1] = math.radians((170*joints[1])/25972)\n",
    "    joints[2] = math.radians((225*joints[2])/28942)\n",
    "    joints[3] = math.radians((180*joints[3])/28133)\n",
    "    joints[4] = math.radians((360*joints[4])/31956)\n",
    "\n",
    "    return joints"
   ]
  },
  {
   "cell_type": "code",
   "execution_count": null,
   "metadata": {},
   "outputs": [],
   "source": [
    "joints = encoder_to_angle([-2334, -6420, -13886, -14808, 105])\n",
    "pos = forward_kinematics(joints, robot_type = 'camera')\n",
    "print(pos)"
   ]
  }
 ],
 "metadata": {
  "language_info": {
   "name": "python"
  }
 },
 "nbformat": 4,
 "nbformat_minor": 2
}
