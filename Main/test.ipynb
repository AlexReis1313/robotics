{
 "cells": [
  {
   "cell_type": "code",
   "execution_count": 21,
   "metadata": {},
   "outputs": [],
   "source": [
    "import numpy as np\n",
    "import math\n",
    "def forward_kinematics(joints,robot_type): #left to implement\n",
    "\t\tif robot_type == 'bisturi':\n",
    "\t\t\tEF = 0.15+0.16\n",
    "\t\telif robot_type == 'camera':\n",
    "\t\t\tEF = 0.18\n",
    "\t\telse:\n",
    "\t\t\traise TypeError('Invalid robot_type') \n",
    "\t\ttheta1,theta2,theta3,theta4,theta5 = joints\n",
    "\n",
    "\t\tT_01 = np.matrix([[math.cos(theta1),math.sin(theta1),0,0],\n",
    "\t\t\t\t\t[math.sin(theta1),math.cos(theta1),0,0],\n",
    "\t\t\t\t\t[0,0,1,0],\n",
    "\t\t\t\t\t[0,0,0,1]])\n",
    "\t\tT_12 = np.matrix([[1,0,0,0.05],\n",
    "\t\t\t\t\t[0,1,0,0],\n",
    "\t\t\t\t\t[0,1,0,3585],\n",
    "\t\t\t\t\t[0,0,0,1]])\n",
    "\t\tT_23 = np.matrix([[math.cos(theta2),-math.sin(theta2),0,0],\n",
    "\t\t\t\t\t[0,0,1,0],\n",
    "\t\t\t\t\t[-math.sin(theta2),-math.cos(theta2),0,0],\n",
    "\t\t\t\t\t[0,0,0,1]])\n",
    "\t\tT_34 = np.matrix([[0,1,0,0],\n",
    "\t\t\t\t\t[-1,0,0,0],\n",
    "\t\t\t\t\t[0,0,1,0.135],\n",
    "\t\t\t\t\t[0,0,0,1]])\n",
    "\t\tT_45 = np.matrix([[math.cos(theta3),-math.sin(theta3),0,0.3],\n",
    "\t\t\t\t\t[math.sin(theta3),math.cos(theta3),0,0],\n",
    "\t\t\t\t\t[0,0,1,0],\n",
    "\t\t\t\t\t[0,0,0,1]])\n",
    "\t\tT_56 = np.matrix([[math.cos(theta4),-math.sin(theta4),0,0.35],\n",
    "\t\t\t\t\t[math.sin(theta4),math.cos(theta4),0,0],\n",
    "\t\t\t\t\t[0,0,1,0],\n",
    "\t\t\t\t\t[0,0,0,1]])\n",
    "\t\tT_67 = np.matrix([[0,-1,0,0],\n",
    "\t\t\t\t\t[1,0,0,0],\n",
    "\t\t\t\t\t[0,0,1,0],\n",
    "\t\t\t\t\t[0,0,0,1]])\n",
    "\t\tT_78 = np.matrix([[math.cos(theta5),-math.sin(theta5),0,0],\n",
    "\t\t\t\t\t[0,0,-1,0],\n",
    "\t\t\t\t\t[math.sin(theta5),math.cos(theta5),0,0],\n",
    "\t\t\t\t\t[0,0,0,1]])\n",
    "\t\tT_89 = np.matrix([[1,0,0,0],\n",
    "\t\t\t\t\t[0,1,0,0],\n",
    "\t\t\t\t\t[0,0,1,EF],\n",
    "\t\t\t\t\t[0,0,0,1]])\n",
    "\t\t\n",
    "\t\t\n",
    "\t\tT = T_01.dot(T_12).dot(T_23).dot(T_34).dot(T_45).dot(T_56).dot(T_67).dot(T_78).dot(T_89)\n",
    "\n",
    "\t\treturn T"
   ]
  },
  {
   "cell_type": "code",
   "execution_count": 37,
   "metadata": {},
   "outputs": [
    {
     "name": "stdout",
     "output_type": "stream",
     "text": [
      "[[-9.46549814e-01 -2.33371287e-01  2.22668568e-01  1.75691454e-01]\n",
      " [-7.35589867e-01 -5.81934011e-01  3.46785748e-01  1.69644729e-01]\n",
      " [-9.58924275e-01  2.83662185e-01  0.00000000e+00  3.58513500e+03]\n",
      " [ 0.00000000e+00  0.00000000e+00  0.00000000e+00  1.00000000e+00]]\n",
      "[0.17569145434771]\n"
     ]
    }
   ],
   "source": [
    "T = forward_kinematics([1,2,3,4,5],'bisturi')\n",
    "print(T)\n",
    "pos = T[0:3,3]\n",
    "print(pos.tolist()[0])"
   ]
  }
 ],
 "metadata": {
  "kernelspec": {
   "display_name": "base",
   "language": "python",
   "name": "python3"
  },
  "language_info": {
   "codemirror_mode": {
    "name": "ipython",
    "version": 3
   },
   "file_extension": ".py",
   "mimetype": "text/x-python",
   "name": "python",
   "nbconvert_exporter": "python",
   "pygments_lexer": "ipython3",
   "version": "3.8.5"
  }
 },
 "nbformat": 4,
 "nbformat_minor": 2
}
