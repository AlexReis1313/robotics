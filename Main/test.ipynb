{
 "cells": [
  {
   "cell_type": "code",
   "execution_count": 3,
   "metadata": {},
   "outputs": [
    {
     "name": "stdout",
     "output_type": "stream",
     "text": [
      "[0, 1, 0]\n",
      "b'ya \\r'\n"
     ]
    }
   ],
   "source": [
    "a=[0,0,0,0,1,0,0,1,0]\n",
    "print(a[6:9])\n",
    "if max(a[6:9]):\n",
    "    print(f'ya \\r'.encode('utf-8'))"
   ]
  },
  {
   "cell_type": "code",
   "execution_count": 8,
   "metadata": {},
   "outputs": [
    {
     "name": "stdout",
     "output_type": "stream",
     "text": [
      "0\n",
      "48\n",
      "b'New State: 1\\nBisturi Pose: [0, 3, 56, 78765, 3]\\n'\n"
     ]
    }
   ],
   "source": [
    "message=''\n",
    "print(len(message))\n",
    "\n",
    "last_state=1\n",
    "last_bisturi_pos=[0,3,56,78765,3]\n",
    "message +=f'New State: {last_state}\\n'\n",
    "message +=f'Bisturi Pose: {last_bisturi_pos}\\n'\n",
    "print(len(message))\n",
    "print(message.encode('utf-8'))\n"
   ]
  },
  {
   "cell_type": "code",
   "execution_count": 9,
   "metadata": {},
   "outputs": [
    {
     "name": "stdout",
     "output_type": "stream",
     "text": [
      "{'Q': 0, '1': 0, 'W': 0, '2': 0, 'E': 5, '3': 0, 'R': 0, '4': 0, 'T': 0, '5': 0}\n"
     ]
    }
   ],
   "source": [
    "message= {'Q':0, '1':0,  'W':0,'2':0, 'E':5,'3':0,  'R':0,'4':0, 'T':0,'5':0,}\n",
    "print(message)"
   ]
  },
  {
   "cell_type": "code",
   "execution_count": null,
   "metadata": {},
   "outputs": [],
   "source": [
    "class Robot():\n",
    "    def __init__(self, comPort='COM4', speed=20):\n",
    "        self.ser = serial.Serial(comPort, baudrate=9600, bytesize=8, timeout=2, parity='N', xonxoff=0) \n",
    "        print(\"COM port in use: {0}\".format(self.ser.name))\t\t\n",
    "        self.speed = speed\n",
    "        self.initial_manual_start()"
   ]
  }
 ],
 "metadata": {
  "kernelspec": {
   "display_name": "Python 3",
   "language": "python",
   "name": "python3"
  },
  "language_info": {
   "codemirror_mode": {
    "name": "ipython",
    "version": 3
   },
   "file_extension": ".py",
   "mimetype": "text/x-python",
   "name": "python",
   "nbconvert_exporter": "python",
   "pygments_lexer": "ipython3",
   "version": "3.9.13"
  }
 },
 "nbformat": 4,
 "nbformat_minor": 2
}
