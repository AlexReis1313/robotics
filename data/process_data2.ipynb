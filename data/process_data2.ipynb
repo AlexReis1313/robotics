{
 "cells": [
  {
   "cell_type": "code",
   "execution_count": 30,
   "metadata": {},
   "outputs": [],
   "source": [
    "import re\n",
    "import numpy as np"
   ]
  },
  {
   "cell_type": "code",
   "execution_count": 31,
   "metadata": {},
   "outputs": [],
   "source": [
    "def extract_numbers_from_line(line):\n",
    "    # Use regular expressions to find all numeric values in the line\n",
    "    for i in range(1,6):\n",
    "        string_replace = f\"'{i}':\"\n",
    "        line=line.replace(string_replace,'')\n",
    "    #print('Line, replaced', line)\n",
    "    numbers = re.findall(r'-?\\d+', line)\n",
    "    #print('numbers', numbers)\n",
    "    output=[]\n",
    "    for num in numbers:\n",
    "        output.append(int(num))\n",
    "    return output\n"
   ]
  },
  {
   "cell_type": "code",
   "execution_count": 32,
   "metadata": {},
   "outputs": [
    {
     "name": "stdout",
     "output_type": "stream",
     "text": [
      "[-1084, -4269, 0, 1, 1] [0, 33, 0, 149, 0, 0, 0, 0, 0, 0]\n",
      "[2149, 8, 3174, -1, -1] [87, 24, 0, 0, 0, 91, 0, 0, 0, 0]\n",
      "[3591, 859, -1, 1, 0] [107, 9, 102, 0, 0, 25, 0, 0, 0, 0]\n",
      "[-1938, 834, 209, 0, 0] [34, 117, 105, 0, 0, 115, 0, 0, 0, 0]\n",
      "[-618, 633, 1468, -1, -422] [11, 24, 28, 0, 0, 78, 0, 0, 0, 14]\n",
      "[2, 0, 15, -6768, 0] [0, 0, 0, 0, 0, 0, 96, 0, 1, 0]\n",
      "[-1, 1, -1, 8451, 0] [0, 0, 0, 0, 0, 0, 0, 115, 0, 0]\n",
      "[-3806, 844, 1725, 10, -844] [0, 103, 33, 0, 0, 44, 0, 0, 0, 23]\n",
      "[-1, -4229, -6589, 0, -3] [0, 0, 0, 116, 195, 14, 0, 0, 0, 0]\n",
      "[-1073, 2, -1264, 0, 0] [0, 29, 11, 0, 38, 0, 0, 0, 0, 0]\n",
      "[-4638, -1, 419, 0, 0] [0, 128, 0, 0, 17, 17, 0, 0, 0, 0]\n",
      "[1269, 4277, 1, -1, 0] [34, 0, 147, 0, 0, 0, 0, 0, 0, 0]\n",
      "[1, 1046, 0, 0, 1] [0, 0, 31, 0, 0, 0, 0, 0, 0, 0]\n",
      "[-2974, -38, -1, 0, -1] [0, 84, 0, 0, 0, 0, 0, 0, 0, 0]\n",
      "[6802, 1, 0, 0, 0] [191, 1, 0, 0, 0, 0, 0, 0, 0, 0]\n",
      "[-444, -1904, 5110, 1, 0] [30, 42, 0, 121, 0, 146, 0, 0, 0, 0]\n",
      "[-2341, 4, -40, -1, 0] [0, 66, 0, 0, 0, 0, 0, 0, 0, 0]\n",
      "[-2526, -2, 2153, 2, 1] [0, 75, 3, 8, 0, 91, 0, 0, 0, 0]\n",
      "[3, 0, -34, -7195, 0] [0, 0, 0, 0, 0, 1, 98, 0, 0, 7]\n",
      "[0, -2326, 1933, 1, -1] [0, 0, 0, 64, 0, 58, 0, 0, 0, 0]\n",
      "[4243, -2, -31, 2, 1] [119, 0, 0, 0, 0, 0, 0, 0, 0, 0]\n",
      "[621, -211, -6989, 0, -1] [22, 9, 0, 27, 196, 0, 0, 0, 0, 0]\n",
      "[-1, 1, -4429, 8464, 0] [0, 0, 0, 0, 115, 0, 0, 113, 0, 15]\n",
      "[3615, 0, -1, -5, 0] [102, 0, 0, 0, 0, 0, 0, 0, 0, 0]\n",
      "[-6590, 0, 0, 1, 0] [1, 178, 90, 43, 0, 0, 0, 0, 0, 0]\n",
      "[15, 3211, 1, -1, 0] [0, 0, 90, 0, 0, 0, 0, 0, 0, 0]\n",
      "[3173, 176, 3628, 0, 0] [100, 0, 10, 1, 143, 318, 0, 0, 0, 0]\n",
      "[-2329, -2158, 2717, 1694, 0] [28, 92, 0, 83, 0, 113, 0, 21, 0, 0]\n"
     ]
    }
   ],
   "source": [
    "\n",
    "\n",
    "x_dataset=[]\n",
    "y_dataset=[]\n",
    "with open('Data_aquisition_29_12_Joints.txt', 'r') as file:\n",
    "    lines = file.readlines()\n",
    "    for line in lines:\n",
    "        numbers = extract_numbers_from_line(line)\n",
    "        dic_values=[0,0,0,0,0]\n",
    "        deltas= numbers[10:]\n",
    "        dictionary= numbers[:10]\n",
    "        print(deltas , dictionary)\n",
    "        for i in range(5):\n",
    "            #print('Number',number)\n",
    "                if i==0:\n",
    "                    dic_values[i] = dictionary[0]-dictionary[1]\n",
    "                elif i==1:\n",
    "                    dic_values[i] = dictionary[2]-dictionary[3]\n",
    "                elif i==2:\n",
    "                    dic_values[i]  = dictionary[4]-dictionary[5]\n",
    "                elif i==3:\n",
    "                    dic_values[i]  = dictionary[6]-dictionary[7]\n",
    "                elif i==4:\n",
    "                    dic_values[i]  = dictionary[8]-dictionary[9]\n",
    "        x_dataset.append(dic_values)\n",
    "        y_dataset.append(deltas)\n",
    "\n",
    "                "
   ]
  },
  {
   "cell_type": "code",
   "execution_count": 33,
   "metadata": {},
   "outputs": [
    {
     "data": {
      "text/plain": [
       "(6, 5)"
      ]
     },
     "execution_count": 33,
     "metadata": {},
     "output_type": "execute_result"
    }
   ],
   "source": [
    "X= np.array(x_dataset)\n",
    "y= np.array(y_dataset)\n",
    "\n",
    "from sklearn.model_selection import train_test_split\n",
    "X_train, X_test, y_train, y_test = train_test_split(X, y, test_size=0.2, random_state=42)\n",
    "X_test.shape"
   ]
  },
  {
   "cell_type": "code",
   "execution_count": 34,
   "metadata": {},
   "outputs": [
    {
     "name": "stdout",
     "output_type": "stream",
     "text": [
      "Mean Squared Error: 913829.1105460472\n",
      "dictionary:[-29  11  38   0   0], deltaTrue:[-1073     2 -1264     0     0], deltapredicted:[-1028.38340008    83.78251584  -988.73029455    55.64912206\n",
      "    71.58855001]\n",
      "\n",
      "dictionary:[ 0 90  0  0  0], deltaTrue:[  15 3211    1   -1    0], deltapredicted:[ 145.98140231 1604.59629334 -681.81364218   11.26483264   15.69864868]\n",
      "\n",
      "dictionary:[   0 -116  181    0    0], deltaTrue:[   -1 -4229 -6589     0    -3], deltapredicted:[ -293.73293213 -2183.89578785 -3431.09417498   154.89391147\n",
      "   239.3868205 ]\n",
      "\n",
      "dictionary:[ 13 -27 196   0   0], deltaTrue:[  621  -211 -6989     0    -1], deltapredicted:[  307.56405028  -444.15612486 -4473.08373277   127.45976211\n",
      "   221.14580765]\n",
      "\n",
      "dictionary:[ -33 -149    0    0    0], deltaTrue:[-1084 -4269     0     1     1], deltapredicted:[-1421.58286844 -3027.79507125  1151.99636601   100.04519118\n",
      "    98.04557929]\n",
      "\n",
      "dictionary:[ 0 31  0  0  0], deltaTrue:[   1 1046    0    0    1], deltapredicted:[  45.94098377  472.03518837 -227.74996063   32.85981419   37.17472087]\n",
      "\n"
     ]
    }
   ],
   "source": [
    "from sklearn.multioutput import MultiOutputRegressor\n",
    "from sklearn.linear_model import LinearRegression\n",
    "from sklearn.model_selection import cross_val_predict\n",
    "from sklearn.metrics import mean_squared_error\n",
    "# Create a linear regression model\n",
    "model = LinearRegression()\n",
    "\n",
    "# Wrap the linear regression model with MultiOutputRegressor\n",
    "multioutput_model = MultiOutputRegressor(model)\n",
    "\n",
    "multioutput_model.fit(X_train, y_train)\n",
    "\n",
    "y_pred_test = multioutput_model.predict(X_test)\n",
    "\n",
    "\n",
    "# Evaluate the model using mean squared error (you can use other metrics as needed)\n",
    "mse = mean_squared_error(y_test, y_pred_test)\n",
    "print(f'Mean Squared Error: {mse}')\n",
    "\n",
    "for i in range(X_test.shape[0]):\n",
    "    print(f'dictionary:{X_test[i,:]}, deltaTrue:{y_test[i,:]}, deltapredicted:{y_pred_test[i,:]}\\n')"
   ]
  },
  {
   "cell_type": "code",
   "execution_count": null,
   "metadata": {},
   "outputs": [],
   "source": []
  }
 ],
 "metadata": {
  "kernelspec": {
   "display_name": "Python 3",
   "language": "python",
   "name": "python3"
  },
  "language_info": {
   "codemirror_mode": {
    "name": "ipython",
    "version": 3
   },
   "file_extension": ".py",
   "mimetype": "text/x-python",
   "name": "python",
   "nbconvert_exporter": "python",
   "pygments_lexer": "ipython3",
   "version": "3.9.13"
  }
 },
 "nbformat": 4,
 "nbformat_minor": 2
}
