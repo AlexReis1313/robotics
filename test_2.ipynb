{
 "cells": [
  {
   "cell_type": "code",
   "execution_count": 7,
   "metadata": {},
   "outputs": [
    {
     "name": "stdout",
     "output_type": "stream",
     "text": [
      "[NEW MESSAGE] (-1, [0, 0, 0, 0, 0], True, [0, 0])\n"
     ]
    },
    {
     "data": {
      "text/plain": [
       "[0, 0]"
      ]
     },
     "execution_count": 7,
     "metadata": {},
     "output_type": "execute_result"
    }
   ],
   "source": [
    "import ast\n",
    "\n",
    "info_computer_share = {'state': -1, 'last_bisturi_pos': [0,0,0,0,0], 'calibration_matrix': None, 'cutting_plan':[0,0], }\n",
    "\n",
    "data = tuple((info_computer_share['state'],info_computer_share['last_bisturi_pos'],True ,info_computer_share['cutting_plan']))\n",
    "data = str(data)\n",
    "data_s = data.encode('utf-8')\n",
    "data_s_length = len(data_s)\n",
    "send_length = str(data_s_length).encode('utf-8')\n",
    "\n",
    "data_r = data_s.decode('utf-8')\n",
    "a=ast.literal_eval(data_r)\n",
    "print(f'[NEW MESSAGE] {a}')\n",
    "a[-1]"
   ]
  }
 ],
 "metadata": {
  "kernelspec": {
   "display_name": "Python 3",
   "language": "python",
   "name": "python3"
  },
  "language_info": {
   "codemirror_mode": {
    "name": "ipython",
    "version": 3
   },
   "file_extension": ".py",
   "mimetype": "text/x-python",
   "name": "python",
   "nbconvert_exporter": "python",
   "pygments_lexer": "ipython3",
   "version": "3.9.13"
  }
 },
 "nbformat": 4,
 "nbformat_minor": 2
}
