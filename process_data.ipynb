{
 "cells": [
  {
   "cell_type": "code",
   "execution_count": 6,
   "metadata": {},
   "outputs": [],
   "source": [
    "import re\n",
    "import numpy as np\n",
    "\n",
    "def extract_numbers_from_line(line):\n",
    "    # Use regular expressions to find all numeric values in the line\n",
    "    numbers = re.findall(r'-?\\d+', line)\n",
    "    return list(map(int, numbers))\n",
    "\n"
   ]
  },
  {
   "cell_type": "code",
   "execution_count": 7,
   "metadata": {},
   "outputs": [
    {
     "ename": "TypeError",
     "evalue": "'list' object is not callable",
     "output_type": "error",
     "traceback": [
      "\u001b[1;31m---------------------------------------------------------------------------\u001b[0m",
      "\u001b[1;31mTypeError\u001b[0m                                 Traceback (most recent call last)",
      "Cell \u001b[1;32mIn[7], line 5\u001b[0m\n\u001b[0;32m      3\u001b[0m lines \u001b[38;5;241m=\u001b[39m file\u001b[38;5;241m.\u001b[39mreadlines()\n\u001b[0;32m      4\u001b[0m \u001b[38;5;28;01mfor\u001b[39;00m line \u001b[38;5;129;01min\u001b[39;00m lines:\n\u001b[1;32m----> 5\u001b[0m     numbers \u001b[38;5;241m=\u001b[39m \u001b[43mextract_numbers_from_line\u001b[49m\u001b[43m(\u001b[49m\u001b[43mline\u001b[49m\u001b[43m)\u001b[49m\n\u001b[0;32m      6\u001b[0m     \u001b[38;5;28mlist\u001b[39m\u001b[38;5;241m=\u001b[39m numbers[\u001b[38;5;241m0\u001b[39m:\u001b[38;5;241m5\u001b[39m]\n\u001b[0;32m      7\u001b[0m     dictionary\u001b[38;5;241m=\u001b[39m numbers[\u001b[38;5;241m5\u001b[39m:\u001b[38;5;241m-\u001b[39m\u001b[38;5;241m1\u001b[39m]\n",
      "Cell \u001b[1;32mIn[6], line 7\u001b[0m, in \u001b[0;36mextract_numbers_from_line\u001b[1;34m(line)\u001b[0m\n\u001b[0;32m      4\u001b[0m \u001b[38;5;28;01mdef\u001b[39;00m \u001b[38;5;21mextract_numbers_from_line\u001b[39m(line):\n\u001b[0;32m      5\u001b[0m     \u001b[38;5;66;03m# Use regular expressions to find all numeric values in the line\u001b[39;00m\n\u001b[0;32m      6\u001b[0m     numbers \u001b[38;5;241m=\u001b[39m re\u001b[38;5;241m.\u001b[39mfindall(\u001b[38;5;124mr\u001b[39m\u001b[38;5;124m'\u001b[39m\u001b[38;5;124m-?\u001b[39m\u001b[38;5;124m\\\u001b[39m\u001b[38;5;124md+\u001b[39m\u001b[38;5;124m'\u001b[39m, line)\n\u001b[1;32m----> 7\u001b[0m     \u001b[38;5;28;01mreturn\u001b[39;00m \u001b[38;5;28;43mlist\u001b[39;49m\u001b[43m(\u001b[49m\u001b[38;5;28;43mmap\u001b[39;49m\u001b[43m(\u001b[49m\u001b[38;5;28;43mint\u001b[39;49m\u001b[43m,\u001b[49m\u001b[43m \u001b[49m\u001b[43mnumbers\u001b[49m\u001b[43m)\u001b[49m\u001b[43m)\u001b[49m\n",
      "\u001b[1;31mTypeError\u001b[0m: 'list' object is not callable"
     ]
    }
   ],
   "source": [
    "\n",
    "\n",
    "results={'Joint 1':[],'Joint 2':[],'Joint 3':[],'Joint 4':[],'Joint 5':[]}\n",
    "with open('Data_joints.txt', 'r') as file:\n",
    "    lines = file.readlines()\n",
    "    for line in lines:\n",
    "        numbers = extract_numbers_from_line(line)\n",
    "        list= numbers[0:5]\n",
    "        dictionary= numbers[5:-1]\n",
    "        for i, number in enumerate(list):\n",
    "            if number !=0:\n",
    "                if i==0:\n",
    "                    dic_values = dictionary[0]-dictionary[1]\n",
    "                elif i==1:\n",
    "                    dic_values = dictionary[2]-dictionary[3]\n",
    "                elif i==2:\n",
    "                    dic_values = dictionary[4]-dictionary[5]\n",
    "                elif i==3:\n",
    "                    dic_values = dictionary[6]-dictionary[7]\n",
    "                elif i==4:\n",
    "                    dic_values = dictionary[8]-dictionary[9]\n",
    "\n",
    "                delta_per_click = number/dic_values\n",
    "\n",
    "                results[f'Joint {i+1}']=[results[f'Joint {i+1}'],delta_per_click]\n",
    "\n"
   ]
  }
 ],
 "metadata": {
  "kernelspec": {
   "display_name": "Python 3",
   "language": "python",
   "name": "python3"
  },
  "language_info": {
   "codemirror_mode": {
    "name": "ipython",
    "version": 3
   },
   "file_extension": ".py",
   "mimetype": "text/x-python",
   "name": "python",
   "nbconvert_exporter": "python",
   "pygments_lexer": "ipython3",
   "version": "3.9.13"
  }
 },
 "nbformat": 4,
 "nbformat_minor": 2
}
